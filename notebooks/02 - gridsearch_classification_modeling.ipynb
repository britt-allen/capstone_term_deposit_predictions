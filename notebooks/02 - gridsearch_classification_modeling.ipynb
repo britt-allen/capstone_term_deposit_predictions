{
 "cells": [
  {
   "cell_type": "markdown",
   "metadata": {},
   "source": [
    "# Term Subscription Predictions and Customer Analysis\n",
    "### Gridsearch, PCA, and Modeling Notebook\n",
    "##### Brittany Allen, February 2019"
   ]
  },
  {
   "cell_type": "code",
   "execution_count": 1,
   "metadata": {},
   "outputs": [
    {
     "name": "stderr",
     "output_type": "stream",
     "text": [
      "Using TensorFlow backend.\n"
     ]
    }
   ],
   "source": [
    "import pandas as pd\n",
    "import numpy as np\n",
    "import seaborn as sns\n",
    "import matplotlib.pyplot as plt\n",
    "#importing the usual suspects (packages/libraies)\n",
    "\n",
    "from sklearn.model_selection import train_test_split, GridSearchCV\n",
    "from sklearn.preprocessing import StandardScaler, PolynomialFeatures\n",
    "from sklearn.metrics import confusion_matrix\n",
    "from sklearn.decomposition import PCA\n",
    "#scikit-learn libraries/packages\n",
    "\n",
    "from sklearn.ensemble import RandomForestClassifier\n",
    "from sklearn.tree import DecisionTreeClassifier\n",
    "from sklearn.neighbors import KNeighborsClassifier\n",
    "from sklearn.linear_model import LogisticRegression\n",
    "#classification packages\n",
    "\n",
    "import tensorflow as tf\n",
    "from tensorflow import keras\n",
    "from keras.models import Sequential\n",
    "from keras.optimizers import Adam\n",
    "from keras.layers import Dense, Dropout, Activation\n",
    "from keras import regularizers\n",
    "from keras.callbacks import EarlyStopping\n",
    "#neural net libraries/packages\n",
    "\n",
    "import random\n",
    "#so I can set a random seed y'all\n",
    "\n",
    "import warnings\n",
    "warnings.simplefilter(action='ignore')\n",
    "#preventing those ugly pink warnings from printing out\n",
    "\n",
    "%matplotlib inline\n",
    "%config InlineBackend.figure_format = 'retina'\n",
    "#displayng my plots inline and changing the inline backeng default figure format so it's cleaner"
   ]
  },
  {
   "cell_type": "code",
   "execution_count": 2,
   "metadata": {},
   "outputs": [],
   "source": [
    "random.seed(42)\n",
    "\n",
    "#setting a global random seed for some element of reproducibility on my KNN and Neural Net models"
   ]
  },
  {
   "cell_type": "code",
   "execution_count": 3,
   "metadata": {},
   "outputs": [],
   "source": [
    "bmd_df = pd.read_csv('./bank.csv')\n",
    "\n",
    "#reading in my DataFrame and assigning it the variable 'bmd_df' – which stands for bank marketing DataFrame"
   ]
  },
  {
   "cell_type": "code",
   "execution_count": 4,
   "metadata": {},
   "outputs": [],
   "source": [
    "bmd_df = bmd_df.drop(columns='duration')\n",
    "\n",
    "#dropping this feature as it is known to highly influence the target"
   ]
  },
  {
   "cell_type": "code",
   "execution_count": 5,
   "metadata": {
    "scrolled": true
   },
   "outputs": [
    {
     "data": {
      "text/html": [
       "<div>\n",
       "<style scoped>\n",
       "    .dataframe tbody tr th:only-of-type {\n",
       "        vertical-align: middle;\n",
       "    }\n",
       "\n",
       "    .dataframe tbody tr th {\n",
       "        vertical-align: top;\n",
       "    }\n",
       "\n",
       "    .dataframe thead th {\n",
       "        text-align: right;\n",
       "    }\n",
       "</style>\n",
       "<table border=\"1\" class=\"dataframe\">\n",
       "  <thead>\n",
       "    <tr style=\"text-align: right;\">\n",
       "      <th></th>\n",
       "      <th>age</th>\n",
       "      <th>job</th>\n",
       "      <th>marital</th>\n",
       "      <th>education</th>\n",
       "      <th>default</th>\n",
       "      <th>balance</th>\n",
       "      <th>housing</th>\n",
       "      <th>loan</th>\n",
       "      <th>contact</th>\n",
       "      <th>day</th>\n",
       "      <th>month</th>\n",
       "      <th>campaign</th>\n",
       "      <th>pdays</th>\n",
       "      <th>previous</th>\n",
       "      <th>poutcome</th>\n",
       "      <th>deposit</th>\n",
       "    </tr>\n",
       "  </thead>\n",
       "  <tbody>\n",
       "    <tr>\n",
       "      <th>0</th>\n",
       "      <td>59</td>\n",
       "      <td>admin.</td>\n",
       "      <td>married</td>\n",
       "      <td>secondary</td>\n",
       "      <td>no</td>\n",
       "      <td>2343</td>\n",
       "      <td>yes</td>\n",
       "      <td>no</td>\n",
       "      <td>unknown</td>\n",
       "      <td>5</td>\n",
       "      <td>may</td>\n",
       "      <td>1</td>\n",
       "      <td>-1</td>\n",
       "      <td>0</td>\n",
       "      <td>unknown</td>\n",
       "      <td>yes</td>\n",
       "    </tr>\n",
       "    <tr>\n",
       "      <th>1</th>\n",
       "      <td>56</td>\n",
       "      <td>admin.</td>\n",
       "      <td>married</td>\n",
       "      <td>secondary</td>\n",
       "      <td>no</td>\n",
       "      <td>45</td>\n",
       "      <td>no</td>\n",
       "      <td>no</td>\n",
       "      <td>unknown</td>\n",
       "      <td>5</td>\n",
       "      <td>may</td>\n",
       "      <td>1</td>\n",
       "      <td>-1</td>\n",
       "      <td>0</td>\n",
       "      <td>unknown</td>\n",
       "      <td>yes</td>\n",
       "    </tr>\n",
       "    <tr>\n",
       "      <th>2</th>\n",
       "      <td>41</td>\n",
       "      <td>technician</td>\n",
       "      <td>married</td>\n",
       "      <td>secondary</td>\n",
       "      <td>no</td>\n",
       "      <td>1270</td>\n",
       "      <td>yes</td>\n",
       "      <td>no</td>\n",
       "      <td>unknown</td>\n",
       "      <td>5</td>\n",
       "      <td>may</td>\n",
       "      <td>1</td>\n",
       "      <td>-1</td>\n",
       "      <td>0</td>\n",
       "      <td>unknown</td>\n",
       "      <td>yes</td>\n",
       "    </tr>\n",
       "    <tr>\n",
       "      <th>3</th>\n",
       "      <td>55</td>\n",
       "      <td>services</td>\n",
       "      <td>married</td>\n",
       "      <td>secondary</td>\n",
       "      <td>no</td>\n",
       "      <td>2476</td>\n",
       "      <td>yes</td>\n",
       "      <td>no</td>\n",
       "      <td>unknown</td>\n",
       "      <td>5</td>\n",
       "      <td>may</td>\n",
       "      <td>1</td>\n",
       "      <td>-1</td>\n",
       "      <td>0</td>\n",
       "      <td>unknown</td>\n",
       "      <td>yes</td>\n",
       "    </tr>\n",
       "    <tr>\n",
       "      <th>4</th>\n",
       "      <td>54</td>\n",
       "      <td>admin.</td>\n",
       "      <td>married</td>\n",
       "      <td>tertiary</td>\n",
       "      <td>no</td>\n",
       "      <td>184</td>\n",
       "      <td>no</td>\n",
       "      <td>no</td>\n",
       "      <td>unknown</td>\n",
       "      <td>5</td>\n",
       "      <td>may</td>\n",
       "      <td>2</td>\n",
       "      <td>-1</td>\n",
       "      <td>0</td>\n",
       "      <td>unknown</td>\n",
       "      <td>yes</td>\n",
       "    </tr>\n",
       "  </tbody>\n",
       "</table>\n",
       "</div>"
      ],
      "text/plain": [
       "   age         job  marital  education default  balance housing loan  contact  \\\n",
       "0   59      admin.  married  secondary      no     2343     yes   no  unknown   \n",
       "1   56      admin.  married  secondary      no       45      no   no  unknown   \n",
       "2   41  technician  married  secondary      no     1270     yes   no  unknown   \n",
       "3   55    services  married  secondary      no     2476     yes   no  unknown   \n",
       "4   54      admin.  married   tertiary      no      184      no   no  unknown   \n",
       "\n",
       "   day month  campaign  pdays  previous poutcome deposit  \n",
       "0    5   may         1     -1         0  unknown     yes  \n",
       "1    5   may         1     -1         0  unknown     yes  \n",
       "2    5   may         1     -1         0  unknown     yes  \n",
       "3    5   may         1     -1         0  unknown     yes  \n",
       "4    5   may         2     -1         0  unknown     yes  "
      ]
     },
     "execution_count": 5,
     "metadata": {},
     "output_type": "execute_result"
    }
   ],
   "source": [
    "bmd_df.head()\n",
    "\n",
    "#displaying the first five rows of my DataFrame"
   ]
  },
  {
   "cell_type": "code",
   "execution_count": 6,
   "metadata": {},
   "outputs": [
    {
     "data": {
      "text/plain": [
       "(11162, 16)"
      ]
     },
     "execution_count": 6,
     "metadata": {},
     "output_type": "execute_result"
    }
   ],
   "source": [
    "bmd_df.shape\n",
    "\n",
    "#checking out the shape of my DataFrame"
   ]
  },
  {
   "cell_type": "code",
   "execution_count": 7,
   "metadata": {},
   "outputs": [
    {
     "data": {
      "text/plain": [
       "0"
      ]
     },
     "execution_count": 7,
     "metadata": {},
     "output_type": "execute_result"
    }
   ],
   "source": [
    "bmd_df.isnull().sum().sum()\n",
    "\n",
    "#checking for nulls, there are none"
   ]
  },
  {
   "cell_type": "code",
   "execution_count": 8,
   "metadata": {},
   "outputs": [
    {
     "data": {
      "text/plain": [
       "no     0.52616\n",
       "yes    0.47384\n",
       "Name: deposit, dtype: float64"
      ]
     },
     "execution_count": 8,
     "metadata": {},
     "output_type": "execute_result"
    }
   ],
   "source": [
    "bmd_df.deposit.value_counts(normalize=True)\n",
    "\n",
    "#checking out the distribution of my target variable"
   ]
  },
  {
   "cell_type": "code",
   "execution_count": 9,
   "metadata": {},
   "outputs": [],
   "source": [
    "bmd_df['target'] = bmd_df.deposit.map(lambda x: 1 if x == 'yes' else 0)\n",
    "\n",
    "#converting my target variable into '1s' and '0s' for my binary classification algorithms"
   ]
  },
  {
   "cell_type": "code",
   "execution_count": 10,
   "metadata": {},
   "outputs": [],
   "source": [
    "b = [18, 35, 50, 72, 90, np.inf]\n",
    "names = ['Millennials (18-34)', \n",
    "         'Gen X (35-49)',\n",
    "         'Baby Boomers (50-71)',\n",
    "         'Silent Gen (72-89)',\n",
    "         'GI Gen (90+)']\n",
    "\n",
    "bmd_df['age_group'] = pd.cut(x = bmd_df.age, bins = b, labels = names, right=False)"
   ]
  },
  {
   "cell_type": "markdown",
   "metadata": {},
   "source": [
    "I engineered a new feature above, <b>age_group</b>, to bucket customers by their generational age groups as I think it will make data visualization and analysis easier and more meaningful."
   ]
  },
  {
   "cell_type": "code",
   "execution_count": 11,
   "metadata": {
    "scrolled": true
   },
   "outputs": [
    {
     "data": {
      "text/html": [
       "<div>\n",
       "<style scoped>\n",
       "    .dataframe tbody tr th:only-of-type {\n",
       "        vertical-align: middle;\n",
       "    }\n",
       "\n",
       "    .dataframe tbody tr th {\n",
       "        vertical-align: top;\n",
       "    }\n",
       "\n",
       "    .dataframe thead th {\n",
       "        text-align: right;\n",
       "    }\n",
       "</style>\n",
       "<table border=\"1\" class=\"dataframe\">\n",
       "  <thead>\n",
       "    <tr style=\"text-align: right;\">\n",
       "      <th></th>\n",
       "      <th>age</th>\n",
       "      <th>job</th>\n",
       "      <th>marital</th>\n",
       "      <th>education</th>\n",
       "      <th>default</th>\n",
       "      <th>balance</th>\n",
       "      <th>housing</th>\n",
       "      <th>loan</th>\n",
       "      <th>contact</th>\n",
       "      <th>day</th>\n",
       "      <th>month</th>\n",
       "      <th>campaign</th>\n",
       "      <th>pdays</th>\n",
       "      <th>previous</th>\n",
       "      <th>poutcome</th>\n",
       "      <th>deposit</th>\n",
       "      <th>target</th>\n",
       "      <th>age_group</th>\n",
       "    </tr>\n",
       "  </thead>\n",
       "  <tbody>\n",
       "    <tr>\n",
       "      <th>0</th>\n",
       "      <td>59</td>\n",
       "      <td>admin.</td>\n",
       "      <td>married</td>\n",
       "      <td>secondary</td>\n",
       "      <td>no</td>\n",
       "      <td>2343</td>\n",
       "      <td>yes</td>\n",
       "      <td>no</td>\n",
       "      <td>unknown</td>\n",
       "      <td>5</td>\n",
       "      <td>may</td>\n",
       "      <td>1</td>\n",
       "      <td>-1</td>\n",
       "      <td>0</td>\n",
       "      <td>unknown</td>\n",
       "      <td>yes</td>\n",
       "      <td>1</td>\n",
       "      <td>Baby Boomers (50-71)</td>\n",
       "    </tr>\n",
       "    <tr>\n",
       "      <th>1</th>\n",
       "      <td>56</td>\n",
       "      <td>admin.</td>\n",
       "      <td>married</td>\n",
       "      <td>secondary</td>\n",
       "      <td>no</td>\n",
       "      <td>45</td>\n",
       "      <td>no</td>\n",
       "      <td>no</td>\n",
       "      <td>unknown</td>\n",
       "      <td>5</td>\n",
       "      <td>may</td>\n",
       "      <td>1</td>\n",
       "      <td>-1</td>\n",
       "      <td>0</td>\n",
       "      <td>unknown</td>\n",
       "      <td>yes</td>\n",
       "      <td>1</td>\n",
       "      <td>Baby Boomers (50-71)</td>\n",
       "    </tr>\n",
       "    <tr>\n",
       "      <th>2</th>\n",
       "      <td>41</td>\n",
       "      <td>technician</td>\n",
       "      <td>married</td>\n",
       "      <td>secondary</td>\n",
       "      <td>no</td>\n",
       "      <td>1270</td>\n",
       "      <td>yes</td>\n",
       "      <td>no</td>\n",
       "      <td>unknown</td>\n",
       "      <td>5</td>\n",
       "      <td>may</td>\n",
       "      <td>1</td>\n",
       "      <td>-1</td>\n",
       "      <td>0</td>\n",
       "      <td>unknown</td>\n",
       "      <td>yes</td>\n",
       "      <td>1</td>\n",
       "      <td>Gen X (35-49)</td>\n",
       "    </tr>\n",
       "    <tr>\n",
       "      <th>3</th>\n",
       "      <td>55</td>\n",
       "      <td>services</td>\n",
       "      <td>married</td>\n",
       "      <td>secondary</td>\n",
       "      <td>no</td>\n",
       "      <td>2476</td>\n",
       "      <td>yes</td>\n",
       "      <td>no</td>\n",
       "      <td>unknown</td>\n",
       "      <td>5</td>\n",
       "      <td>may</td>\n",
       "      <td>1</td>\n",
       "      <td>-1</td>\n",
       "      <td>0</td>\n",
       "      <td>unknown</td>\n",
       "      <td>yes</td>\n",
       "      <td>1</td>\n",
       "      <td>Baby Boomers (50-71)</td>\n",
       "    </tr>\n",
       "    <tr>\n",
       "      <th>4</th>\n",
       "      <td>54</td>\n",
       "      <td>admin.</td>\n",
       "      <td>married</td>\n",
       "      <td>tertiary</td>\n",
       "      <td>no</td>\n",
       "      <td>184</td>\n",
       "      <td>no</td>\n",
       "      <td>no</td>\n",
       "      <td>unknown</td>\n",
       "      <td>5</td>\n",
       "      <td>may</td>\n",
       "      <td>2</td>\n",
       "      <td>-1</td>\n",
       "      <td>0</td>\n",
       "      <td>unknown</td>\n",
       "      <td>yes</td>\n",
       "      <td>1</td>\n",
       "      <td>Baby Boomers (50-71)</td>\n",
       "    </tr>\n",
       "  </tbody>\n",
       "</table>\n",
       "</div>"
      ],
      "text/plain": [
       "   age         job  marital  education default  balance housing loan  contact  \\\n",
       "0   59      admin.  married  secondary      no     2343     yes   no  unknown   \n",
       "1   56      admin.  married  secondary      no       45      no   no  unknown   \n",
       "2   41  technician  married  secondary      no     1270     yes   no  unknown   \n",
       "3   55    services  married  secondary      no     2476     yes   no  unknown   \n",
       "4   54      admin.  married   tertiary      no      184      no   no  unknown   \n",
       "\n",
       "   day month  campaign  pdays  previous poutcome deposit  target  \\\n",
       "0    5   may         1     -1         0  unknown     yes       1   \n",
       "1    5   may         1     -1         0  unknown     yes       1   \n",
       "2    5   may         1     -1         0  unknown     yes       1   \n",
       "3    5   may         1     -1         0  unknown     yes       1   \n",
       "4    5   may         2     -1         0  unknown     yes       1   \n",
       "\n",
       "              age_group  \n",
       "0  Baby Boomers (50-71)  \n",
       "1  Baby Boomers (50-71)  \n",
       "2         Gen X (35-49)  \n",
       "3  Baby Boomers (50-71)  \n",
       "4  Baby Boomers (50-71)  "
      ]
     },
     "execution_count": 11,
     "metadata": {},
     "output_type": "execute_result"
    }
   ],
   "source": [
    "bmd_df.head()\n",
    "\n",
    "#displaying my head again to get a glimpse of the new feature I engineered"
   ]
  },
  {
   "cell_type": "markdown",
   "metadata": {},
   "source": [
    "# Feature Selection / Engineering / Transformation"
   ]
  },
  {
   "cell_type": "code",
   "execution_count": 12,
   "metadata": {},
   "outputs": [
    {
     "data": {
      "text/plain": [
       "Index(['age', 'job', 'marital', 'education', 'default', 'balance', 'housing',\n",
       "       'loan', 'contact', 'day', 'month', 'campaign', 'pdays', 'previous',\n",
       "       'poutcome', 'deposit', 'target', 'age_group'],\n",
       "      dtype='object')"
      ]
     },
     "execution_count": 12,
     "metadata": {},
     "output_type": "execute_result"
    }
   ],
   "source": [
    "bmd_df.columns\n",
    "\n",
    "#getting a look at all of my columns"
   ]
  },
  {
   "cell_type": "code",
   "execution_count": 13,
   "metadata": {},
   "outputs": [],
   "source": [
    "to_poly = bmd_df.columns[bmd_df.dtypes != object]\n",
    "to_poly = to_poly.drop(labels=['target', 'age_group'])\n",
    "\n",
    "#creating a variable to house the features I'd like to create mass polynomial and interaction terms for"
   ]
  },
  {
   "cell_type": "code",
   "execution_count": 14,
   "metadata": {},
   "outputs": [],
   "source": [
    "poly = PolynomialFeatures(include_bias=False)\n",
    "X_poly = bmd_df[to_poly]\n",
    "\n",
    "#instantiating the PolynomialFeatures pre-processor\n",
    "#assigning a variable, X_poly, to house the DataFrame of features to be processed"
   ]
  },
  {
   "cell_type": "code",
   "execution_count": 15,
   "metadata": {},
   "outputs": [],
   "source": [
    "X_poly = poly.fit_transform(X_poly)\n",
    "\n",
    "#fitting and transforming my features"
   ]
  },
  {
   "cell_type": "code",
   "execution_count": 16,
   "metadata": {},
   "outputs": [
    {
     "data": {
      "text/plain": [
       "['age',\n",
       " 'balance',\n",
       " 'day',\n",
       " 'campaign',\n",
       " 'pdays',\n",
       " 'previous',\n",
       " 'age^2',\n",
       " 'age balance',\n",
       " 'age day',\n",
       " 'age campaign',\n",
       " 'age pdays',\n",
       " 'age previous',\n",
       " 'balance^2',\n",
       " 'balance day',\n",
       " 'balance campaign',\n",
       " 'balance pdays',\n",
       " 'balance previous',\n",
       " 'day^2',\n",
       " 'day campaign',\n",
       " 'day pdays',\n",
       " 'day previous',\n",
       " 'campaign^2',\n",
       " 'campaign pdays',\n",
       " 'campaign previous',\n",
       " 'pdays^2',\n",
       " 'pdays previous',\n",
       " 'previous^2']"
      ]
     },
     "execution_count": 16,
     "metadata": {},
     "output_type": "execute_result"
    }
   ],
   "source": [
    "poly.get_feature_names(to_poly)\n",
    "\n",
    "#displaying the feature names of my newly created polynomial and interaction terms"
   ]
  },
  {
   "cell_type": "code",
   "execution_count": 17,
   "metadata": {},
   "outputs": [
    {
     "data": {
      "text/html": [
       "<div>\n",
       "<style scoped>\n",
       "    .dataframe tbody tr th:only-of-type {\n",
       "        vertical-align: middle;\n",
       "    }\n",
       "\n",
       "    .dataframe tbody tr th {\n",
       "        vertical-align: top;\n",
       "    }\n",
       "\n",
       "    .dataframe thead th {\n",
       "        text-align: right;\n",
       "    }\n",
       "</style>\n",
       "<table border=\"1\" class=\"dataframe\">\n",
       "  <thead>\n",
       "    <tr style=\"text-align: right;\">\n",
       "      <th></th>\n",
       "      <th>age</th>\n",
       "      <th>job</th>\n",
       "      <th>marital</th>\n",
       "      <th>education</th>\n",
       "      <th>default</th>\n",
       "      <th>balance</th>\n",
       "      <th>housing</th>\n",
       "      <th>loan</th>\n",
       "      <th>contact</th>\n",
       "      <th>day</th>\n",
       "      <th>...</th>\n",
       "      <th>day^2</th>\n",
       "      <th>day campaign</th>\n",
       "      <th>day pdays</th>\n",
       "      <th>day previous</th>\n",
       "      <th>campaign^2</th>\n",
       "      <th>campaign pdays</th>\n",
       "      <th>campaign previous</th>\n",
       "      <th>pdays^2</th>\n",
       "      <th>pdays previous</th>\n",
       "      <th>previous^2</th>\n",
       "    </tr>\n",
       "  </thead>\n",
       "  <tbody>\n",
       "    <tr>\n",
       "      <th>0</th>\n",
       "      <td>59</td>\n",
       "      <td>admin.</td>\n",
       "      <td>married</td>\n",
       "      <td>secondary</td>\n",
       "      <td>no</td>\n",
       "      <td>2343</td>\n",
       "      <td>yes</td>\n",
       "      <td>no</td>\n",
       "      <td>unknown</td>\n",
       "      <td>5</td>\n",
       "      <td>...</td>\n",
       "      <td>25.0</td>\n",
       "      <td>5.0</td>\n",
       "      <td>-5.0</td>\n",
       "      <td>0.0</td>\n",
       "      <td>1.0</td>\n",
       "      <td>-1.0</td>\n",
       "      <td>0.0</td>\n",
       "      <td>1.0</td>\n",
       "      <td>-0.0</td>\n",
       "      <td>0.0</td>\n",
       "    </tr>\n",
       "    <tr>\n",
       "      <th>1</th>\n",
       "      <td>56</td>\n",
       "      <td>admin.</td>\n",
       "      <td>married</td>\n",
       "      <td>secondary</td>\n",
       "      <td>no</td>\n",
       "      <td>45</td>\n",
       "      <td>no</td>\n",
       "      <td>no</td>\n",
       "      <td>unknown</td>\n",
       "      <td>5</td>\n",
       "      <td>...</td>\n",
       "      <td>25.0</td>\n",
       "      <td>5.0</td>\n",
       "      <td>-5.0</td>\n",
       "      <td>0.0</td>\n",
       "      <td>1.0</td>\n",
       "      <td>-1.0</td>\n",
       "      <td>0.0</td>\n",
       "      <td>1.0</td>\n",
       "      <td>-0.0</td>\n",
       "      <td>0.0</td>\n",
       "    </tr>\n",
       "    <tr>\n",
       "      <th>2</th>\n",
       "      <td>41</td>\n",
       "      <td>technician</td>\n",
       "      <td>married</td>\n",
       "      <td>secondary</td>\n",
       "      <td>no</td>\n",
       "      <td>1270</td>\n",
       "      <td>yes</td>\n",
       "      <td>no</td>\n",
       "      <td>unknown</td>\n",
       "      <td>5</td>\n",
       "      <td>...</td>\n",
       "      <td>25.0</td>\n",
       "      <td>5.0</td>\n",
       "      <td>-5.0</td>\n",
       "      <td>0.0</td>\n",
       "      <td>1.0</td>\n",
       "      <td>-1.0</td>\n",
       "      <td>0.0</td>\n",
       "      <td>1.0</td>\n",
       "      <td>-0.0</td>\n",
       "      <td>0.0</td>\n",
       "    </tr>\n",
       "    <tr>\n",
       "      <th>3</th>\n",
       "      <td>55</td>\n",
       "      <td>services</td>\n",
       "      <td>married</td>\n",
       "      <td>secondary</td>\n",
       "      <td>no</td>\n",
       "      <td>2476</td>\n",
       "      <td>yes</td>\n",
       "      <td>no</td>\n",
       "      <td>unknown</td>\n",
       "      <td>5</td>\n",
       "      <td>...</td>\n",
       "      <td>25.0</td>\n",
       "      <td>5.0</td>\n",
       "      <td>-5.0</td>\n",
       "      <td>0.0</td>\n",
       "      <td>1.0</td>\n",
       "      <td>-1.0</td>\n",
       "      <td>0.0</td>\n",
       "      <td>1.0</td>\n",
       "      <td>-0.0</td>\n",
       "      <td>0.0</td>\n",
       "    </tr>\n",
       "    <tr>\n",
       "      <th>4</th>\n",
       "      <td>54</td>\n",
       "      <td>admin.</td>\n",
       "      <td>married</td>\n",
       "      <td>tertiary</td>\n",
       "      <td>no</td>\n",
       "      <td>184</td>\n",
       "      <td>no</td>\n",
       "      <td>no</td>\n",
       "      <td>unknown</td>\n",
       "      <td>5</td>\n",
       "      <td>...</td>\n",
       "      <td>25.0</td>\n",
       "      <td>10.0</td>\n",
       "      <td>-5.0</td>\n",
       "      <td>0.0</td>\n",
       "      <td>4.0</td>\n",
       "      <td>-2.0</td>\n",
       "      <td>0.0</td>\n",
       "      <td>1.0</td>\n",
       "      <td>-0.0</td>\n",
       "      <td>0.0</td>\n",
       "    </tr>\n",
       "  </tbody>\n",
       "</table>\n",
       "<p>5 rows × 39 columns</p>\n",
       "</div>"
      ],
      "text/plain": [
       "   age         job  marital  education default  balance housing loan  contact  \\\n",
       "0   59      admin.  married  secondary      no     2343     yes   no  unknown   \n",
       "1   56      admin.  married  secondary      no       45      no   no  unknown   \n",
       "2   41  technician  married  secondary      no     1270     yes   no  unknown   \n",
       "3   55    services  married  secondary      no     2476     yes   no  unknown   \n",
       "4   54      admin.  married   tertiary      no      184      no   no  unknown   \n",
       "\n",
       "   day     ...     day^2  day campaign  day pdays  day previous campaign^2  \\\n",
       "0    5     ...      25.0           5.0       -5.0           0.0        1.0   \n",
       "1    5     ...      25.0           5.0       -5.0           0.0        1.0   \n",
       "2    5     ...      25.0           5.0       -5.0           0.0        1.0   \n",
       "3    5     ...      25.0           5.0       -5.0           0.0        1.0   \n",
       "4    5     ...      25.0          10.0       -5.0           0.0        4.0   \n",
       "\n",
       "  campaign pdays  campaign previous pdays^2  pdays previous  previous^2  \n",
       "0           -1.0                0.0     1.0            -0.0         0.0  \n",
       "1           -1.0                0.0     1.0            -0.0         0.0  \n",
       "2           -1.0                0.0     1.0            -0.0         0.0  \n",
       "3           -1.0                0.0     1.0            -0.0         0.0  \n",
       "4           -2.0                0.0     1.0            -0.0         0.0  \n",
       "\n",
       "[5 rows x 39 columns]"
      ]
     },
     "execution_count": 17,
     "metadata": {},
     "output_type": "execute_result"
    }
   ],
   "source": [
    "bmd_df_poly = pd.DataFrame(X_poly, columns=poly.get_feature_names(to_poly))\n",
    "bmd_df = bmd_df.join(bmd_df_poly[['age^2', 'age balance', 'age day', 'age campaign', 'age pdays', 'age previous',\n",
    "                            'balance^2', 'balance day', 'balance campaign', 'balance pdays', 'balance previous',\n",
    "                            'day^2', 'day campaign', 'day pdays', 'day previous', 'campaign^2', 'campaign pdays',\n",
    "                            'campaign previous', 'pdays^2', 'pdays previous', 'previous^2']])\n",
    "bmd_df.head()\n",
    "\n",
    "#created a new DataFrame to house my new polynomial and interaction terms\n",
    "#joined that new Dataframe with my existing one, bmd_df, and displayed the head to review the results"
   ]
  },
  {
   "cell_type": "code",
   "execution_count": 18,
   "metadata": {},
   "outputs": [],
   "source": [
    "to_dummy = (bmd_df.columns[bmd_df.dtypes != float]) & (bmd_df.columns[bmd_df.dtypes != int])\n",
    "to_dummy = to_dummy.drop(labels='deposit')\n",
    "\n",
    "#created a variable to house the categorical features I wanted to pre-process with one-hot encoding\n",
    "#dropped my target variable"
   ]
  },
  {
   "cell_type": "code",
   "execution_count": 19,
   "metadata": {},
   "outputs": [
    {
     "data": {
      "text/html": [
       "<div>\n",
       "<style scoped>\n",
       "    .dataframe tbody tr th:only-of-type {\n",
       "        vertical-align: middle;\n",
       "    }\n",
       "\n",
       "    .dataframe tbody tr th {\n",
       "        vertical-align: top;\n",
       "    }\n",
       "\n",
       "    .dataframe thead th {\n",
       "        text-align: right;\n",
       "    }\n",
       "</style>\n",
       "<table border=\"1\" class=\"dataframe\">\n",
       "  <thead>\n",
       "    <tr style=\"text-align: right;\">\n",
       "      <th></th>\n",
       "      <th>age</th>\n",
       "      <th>balance</th>\n",
       "      <th>day</th>\n",
       "      <th>campaign</th>\n",
       "      <th>pdays</th>\n",
       "      <th>previous</th>\n",
       "      <th>deposit</th>\n",
       "      <th>target</th>\n",
       "      <th>age^2</th>\n",
       "      <th>age balance</th>\n",
       "      <th>...</th>\n",
       "      <th>month_nov</th>\n",
       "      <th>month_oct</th>\n",
       "      <th>month_sep</th>\n",
       "      <th>poutcome_other</th>\n",
       "      <th>poutcome_success</th>\n",
       "      <th>poutcome_unknown</th>\n",
       "      <th>age_group_Gen X (35-49)</th>\n",
       "      <th>age_group_Baby Boomers (50-71)</th>\n",
       "      <th>age_group_Silent Gen (72-89)</th>\n",
       "      <th>age_group_GI Gen (90+)</th>\n",
       "    </tr>\n",
       "  </thead>\n",
       "  <tbody>\n",
       "    <tr>\n",
       "      <th>0</th>\n",
       "      <td>59</td>\n",
       "      <td>2343</td>\n",
       "      <td>5</td>\n",
       "      <td>1</td>\n",
       "      <td>-1</td>\n",
       "      <td>0</td>\n",
       "      <td>yes</td>\n",
       "      <td>1</td>\n",
       "      <td>3481.0</td>\n",
       "      <td>138237.0</td>\n",
       "      <td>...</td>\n",
       "      <td>0</td>\n",
       "      <td>0</td>\n",
       "      <td>0</td>\n",
       "      <td>0</td>\n",
       "      <td>0</td>\n",
       "      <td>1</td>\n",
       "      <td>0</td>\n",
       "      <td>1</td>\n",
       "      <td>0</td>\n",
       "      <td>0</td>\n",
       "    </tr>\n",
       "    <tr>\n",
       "      <th>1</th>\n",
       "      <td>56</td>\n",
       "      <td>45</td>\n",
       "      <td>5</td>\n",
       "      <td>1</td>\n",
       "      <td>-1</td>\n",
       "      <td>0</td>\n",
       "      <td>yes</td>\n",
       "      <td>1</td>\n",
       "      <td>3136.0</td>\n",
       "      <td>2520.0</td>\n",
       "      <td>...</td>\n",
       "      <td>0</td>\n",
       "      <td>0</td>\n",
       "      <td>0</td>\n",
       "      <td>0</td>\n",
       "      <td>0</td>\n",
       "      <td>1</td>\n",
       "      <td>0</td>\n",
       "      <td>1</td>\n",
       "      <td>0</td>\n",
       "      <td>0</td>\n",
       "    </tr>\n",
       "    <tr>\n",
       "      <th>2</th>\n",
       "      <td>41</td>\n",
       "      <td>1270</td>\n",
       "      <td>5</td>\n",
       "      <td>1</td>\n",
       "      <td>-1</td>\n",
       "      <td>0</td>\n",
       "      <td>yes</td>\n",
       "      <td>1</td>\n",
       "      <td>1681.0</td>\n",
       "      <td>52070.0</td>\n",
       "      <td>...</td>\n",
       "      <td>0</td>\n",
       "      <td>0</td>\n",
       "      <td>0</td>\n",
       "      <td>0</td>\n",
       "      <td>0</td>\n",
       "      <td>1</td>\n",
       "      <td>1</td>\n",
       "      <td>0</td>\n",
       "      <td>0</td>\n",
       "      <td>0</td>\n",
       "    </tr>\n",
       "    <tr>\n",
       "      <th>3</th>\n",
       "      <td>55</td>\n",
       "      <td>2476</td>\n",
       "      <td>5</td>\n",
       "      <td>1</td>\n",
       "      <td>-1</td>\n",
       "      <td>0</td>\n",
       "      <td>yes</td>\n",
       "      <td>1</td>\n",
       "      <td>3025.0</td>\n",
       "      <td>136180.0</td>\n",
       "      <td>...</td>\n",
       "      <td>0</td>\n",
       "      <td>0</td>\n",
       "      <td>0</td>\n",
       "      <td>0</td>\n",
       "      <td>0</td>\n",
       "      <td>1</td>\n",
       "      <td>0</td>\n",
       "      <td>1</td>\n",
       "      <td>0</td>\n",
       "      <td>0</td>\n",
       "    </tr>\n",
       "    <tr>\n",
       "      <th>4</th>\n",
       "      <td>54</td>\n",
       "      <td>184</td>\n",
       "      <td>5</td>\n",
       "      <td>2</td>\n",
       "      <td>-1</td>\n",
       "      <td>0</td>\n",
       "      <td>yes</td>\n",
       "      <td>1</td>\n",
       "      <td>2916.0</td>\n",
       "      <td>9936.0</td>\n",
       "      <td>...</td>\n",
       "      <td>0</td>\n",
       "      <td>0</td>\n",
       "      <td>0</td>\n",
       "      <td>0</td>\n",
       "      <td>0</td>\n",
       "      <td>1</td>\n",
       "      <td>0</td>\n",
       "      <td>1</td>\n",
       "      <td>0</td>\n",
       "      <td>0</td>\n",
       "    </tr>\n",
       "  </tbody>\n",
       "</table>\n",
       "<p>5 rows × 68 columns</p>\n",
       "</div>"
      ],
      "text/plain": [
       "   age  balance  day  campaign  pdays  previous deposit  target   age^2  \\\n",
       "0   59     2343    5         1     -1         0     yes       1  3481.0   \n",
       "1   56       45    5         1     -1         0     yes       1  3136.0   \n",
       "2   41     1270    5         1     -1         0     yes       1  1681.0   \n",
       "3   55     2476    5         1     -1         0     yes       1  3025.0   \n",
       "4   54      184    5         2     -1         0     yes       1  2916.0   \n",
       "\n",
       "   age balance           ...            month_nov  month_oct  month_sep  \\\n",
       "0     138237.0           ...                    0          0          0   \n",
       "1       2520.0           ...                    0          0          0   \n",
       "2      52070.0           ...                    0          0          0   \n",
       "3     136180.0           ...                    0          0          0   \n",
       "4       9936.0           ...                    0          0          0   \n",
       "\n",
       "   poutcome_other  poutcome_success  poutcome_unknown  \\\n",
       "0               0                 0                 1   \n",
       "1               0                 0                 1   \n",
       "2               0                 0                 1   \n",
       "3               0                 0                 1   \n",
       "4               0                 0                 1   \n",
       "\n",
       "   age_group_Gen X (35-49)  age_group_Baby Boomers (50-71)  \\\n",
       "0                        0                               1   \n",
       "1                        0                               1   \n",
       "2                        1                               0   \n",
       "3                        0                               1   \n",
       "4                        0                               1   \n",
       "\n",
       "   age_group_Silent Gen (72-89)  age_group_GI Gen (90+)  \n",
       "0                             0                       0  \n",
       "1                             0                       0  \n",
       "2                             0                       0  \n",
       "3                             0                       0  \n",
       "4                             0                       0  \n",
       "\n",
       "[5 rows x 68 columns]"
      ]
     },
     "execution_count": 19,
     "metadata": {},
     "output_type": "execute_result"
    }
   ],
   "source": [
    "bmd_df = pd.get_dummies(bmd_df, columns=to_dummy, drop_first=True)\n",
    "bmd_df.head()\n",
    "\n",
    "#used Pandas' pd.get_dummies to transform my features into binary values and reassigned it back to my DataFrame"
   ]
  },
  {
   "cell_type": "code",
   "execution_count": 20,
   "metadata": {},
   "outputs": [
    {
     "data": {
      "text/plain": [
       "Index(['age^2', 'age balance', 'age day', 'age campaign', 'age pdays',\n",
       "       'age previous', 'balance^2', 'balance day', 'balance campaign',\n",
       "       'balance pdays', 'balance previous', 'day^2', 'day campaign',\n",
       "       'day pdays', 'day previous', 'campaign^2', 'campaign pdays',\n",
       "       'campaign previous', 'pdays^2', 'pdays previous', 'previous^2',\n",
       "       'job_blue-collar', 'job_entrepreneur', 'job_housemaid',\n",
       "       'job_management', 'job_retired', 'job_self-employed', 'job_services',\n",
       "       'job_student', 'job_technician', 'job_unemployed', 'job_unknown',\n",
       "       'marital_married', 'marital_single', 'education_secondary',\n",
       "       'education_tertiary', 'education_unknown', 'default_yes', 'housing_yes',\n",
       "       'loan_yes', 'contact_telephone', 'contact_unknown', 'month_aug',\n",
       "       'month_dec', 'month_feb', 'month_jan', 'month_jul', 'month_jun',\n",
       "       'month_mar', 'month_may', 'month_nov', 'month_oct', 'month_sep',\n",
       "       'poutcome_other', 'poutcome_success', 'poutcome_unknown',\n",
       "       'age_group_Gen X (35-49)', 'age_group_Baby Boomers (50-71)',\n",
       "       'age_group_Silent Gen (72-89)', 'age_group_GI Gen (90+)'],\n",
       "      dtype='object')"
      ]
     },
     "execution_count": 20,
     "metadata": {},
     "output_type": "execute_result"
    }
   ],
   "source": [
    "features = bmd_df.columns.drop(labels = ['deposit', 'target', 'age', 'balance', \n",
    "                                         'day', 'campaign','pdays', 'previous'])\n",
    "features\n",
    "\n",
    "#created a variable to house the features I planned to model with"
   ]
  },
  {
   "cell_type": "code",
   "execution_count": 21,
   "metadata": {},
   "outputs": [
    {
     "data": {
      "text/plain": [
       "(11162, 68)"
      ]
     },
     "execution_count": 21,
     "metadata": {},
     "output_type": "execute_result"
    }
   ],
   "source": [
    "bmd_df.shape\n",
    "\n",
    "#checking out the shape of my DataFrame now that new features have been added"
   ]
  },
  {
   "cell_type": "code",
   "execution_count": 22,
   "metadata": {},
   "outputs": [],
   "source": [
    "X = bmd_df[features]\n",
    "y = bmd_df.target\n",
    "\n",
    "#creating my X and y variables"
   ]
  },
  {
   "cell_type": "code",
   "execution_count": 23,
   "metadata": {},
   "outputs": [],
   "source": [
    "X_train, X_test, y_train, y_test = train_test_split(X, y, random_state=44, test_size=0.30)\n",
    "\n",
    "#instantiating my train test split, passing the data to be split, setting a random state, and specifying my test size"
   ]
  },
  {
   "cell_type": "code",
   "execution_count": 24,
   "metadata": {},
   "outputs": [],
   "source": [
    "ss = StandardScaler()\n",
    "X_train = ss.fit_transform(X_train)\n",
    "X_test = ss.transform(X_test)\n",
    "\n",
    "#scaling my Xs"
   ]
  },
  {
   "cell_type": "markdown",
   "metadata": {},
   "source": [
    "# CLASSIFICATION MODELING"
   ]
  },
  {
   "cell_type": "markdown",
   "metadata": {},
   "source": [
    "### LOGISTIC REGRESSION MODELS"
   ]
  },
  {
   "cell_type": "code",
   "execution_count": 25,
   "metadata": {},
   "outputs": [],
   "source": [
    "def run_the_lr_models(model):\n",
    "    \n",
    "    if model == 'lr_1':\n",
    "        \n",
    "        lr_1_params = {\n",
    "            'penalty': ['l1'],\n",
    "            'C': [1, 1.5, 2],\n",
    "            'class_weight': [None, 'balanced'],\n",
    "            'warm_start': [True, False],            \n",
    "            'random_state': [42],\n",
    "            'solver': ['liblinear']}\n",
    "        \n",
    "        M = GridSearchCV(LogisticRegression(),\n",
    "                        lr_1_params,\n",
    "                        cv = 5,\n",
    "                        verbose = 1,\n",
    "                        n_jobs = -1)\n",
    "        \n",
    "    elif model == 'lr_2':\n",
    "        \n",
    "        lr_2_params = {\n",
    "            'penalty': ['l2'],\n",
    "            'C': [1, 1.5, 2],\n",
    "            'class_weight': [None, 'balanced'],\n",
    "            'warm_start': [True, False],            \n",
    "            'random_state': [42],\n",
    "            'solver': ['lbfgs', 'liblinear']}\n",
    "        \n",
    "        M = GridSearchCV(LogisticRegression(),\n",
    "                        lr_2_params,\n",
    "                        cv = 5,\n",
    "                        verbose = 1,\n",
    "                        n_jobs = -1)\n",
    "\n",
    "    else:\n",
    "        print('There is an error.')\n",
    "        \n",
    "    M.fit(X_train, y_train)\n",
    "     \n",
    "    print(f'Train score = {M.score(X_train, y_train)}')\n",
    "    print(f'Test score = {M.score(X_test, y_test)}')\n",
    "    \n",
    "    predictions = M.predict(X_test)\n",
    "    print('--------')\n",
    "    print(confusion_matrix(y_test, predictions))\n",
    "    print(f'Best params = {M.best_params_}')"
   ]
  },
  {
   "cell_type": "code",
   "execution_count": 26,
   "metadata": {},
   "outputs": [
    {
     "name": "stdout",
     "output_type": "stream",
     "text": [
      "Fitting 5 folds for each of 12 candidates, totalling 60 fits\n"
     ]
    },
    {
     "name": "stderr",
     "output_type": "stream",
     "text": [
      "[Parallel(n_jobs=-1)]: Using backend LokyBackend with 4 concurrent workers.\n",
      "[Parallel(n_jobs=-1)]: Done  42 tasks      | elapsed:   11.3s\n",
      "[Parallel(n_jobs=-1)]: Done  60 out of  60 | elapsed:   13.2s finished\n"
     ]
    },
    {
     "name": "stdout",
     "output_type": "stream",
     "text": [
      "Train score = 0.7152182260335338\n",
      "Test score = 0.7100627052851598\n",
      "--------\n",
      "[[1436  302]\n",
      " [ 669  942]]\n",
      "Best params = {'C': 1, 'class_weight': None, 'penalty': 'l1', 'random_state': 42, 'solver': 'liblinear', 'warm_start': True}\n"
     ]
    }
   ],
   "source": [
    "run_the_lr_models('lr_1')"
   ]
  },
  {
   "cell_type": "code",
   "execution_count": 27,
   "metadata": {},
   "outputs": [
    {
     "name": "stdout",
     "output_type": "stream",
     "text": [
      "Fitting 5 folds for each of 24 candidates, totalling 120 fits\n"
     ]
    },
    {
     "name": "stderr",
     "output_type": "stream",
     "text": [
      "[Parallel(n_jobs=-1)]: Using backend LokyBackend with 4 concurrent workers.\n",
      "[Parallel(n_jobs=-1)]: Done  42 tasks      | elapsed:    4.2s\n"
     ]
    },
    {
     "name": "stdout",
     "output_type": "stream",
     "text": [
      "Train score = 0.7156022014591066\n",
      "Test score = 0.7121528814571514\n",
      "--------\n",
      "[[1439  299]\n",
      " [ 665  946]]\n",
      "Best params = {'C': 1.5, 'class_weight': None, 'penalty': 'l2', 'random_state': 42, 'solver': 'lbfgs', 'warm_start': True}\n"
     ]
    },
    {
     "name": "stderr",
     "output_type": "stream",
     "text": [
      "[Parallel(n_jobs=-1)]: Done 120 out of 120 | elapsed:   12.8s finished\n"
     ]
    }
   ],
   "source": [
    "run_the_lr_models('lr_2')"
   ]
  },
  {
   "cell_type": "markdown",
   "metadata": {},
   "source": [
    "#### Explaining the 3 cells above Logistic Regression\n",
    "\n",
    "I defined a function to:\n",
    "\n",
    "- GridSearch hyperparameters for two Logistic Regresssion Models\n",
    "- Fit the models\n",
    "- Print the train and test scores for the models\n",
    "- Make predictions and print them in a confusion matrix\n",
    "- Print out the best parameters\n",
    "\n",
    "In the first cell following the function, I call `run_the_lr_models('lr_1')` which runs the first logistic regression model and in the next cell I call `run_the_lr_models('lr_2')` which runs the second model. The difference between the two models are the penalty. Some hyperparemeters only work with an L1 penalty while some only work with the L2 so I separated them based on that."
   ]
  },
  {
   "cell_type": "markdown",
   "metadata": {},
   "source": [
    "### DECISION TREE MODELS"
   ]
  },
  {
   "cell_type": "code",
   "execution_count": 28,
   "metadata": {},
   "outputs": [],
   "source": [
    "def run_the_dt_models(model):\n",
    "    \n",
    "    if model == 'dt_1':\n",
    "        \n",
    "        dt_params = {\n",
    "            'criterion': ['gini'],\n",
    "            'max_depth': [4, 8, 12],\n",
    "            'min_samples_split': [2, 3, 4],\n",
    "            'max_features': [None, 'log2', 'auto', .50, .75, .99],\n",
    "            'random_state': [42]}\n",
    "        \n",
    "        M = GridSearchCV(DecisionTreeClassifier(),\n",
    "                        dt_params,\n",
    "                        cv = 5,\n",
    "                        verbose = 1,\n",
    "                        n_jobs = -1)\n",
    "   \n",
    "    elif model == 'dt_2':\n",
    "        \n",
    "        dt_none_params = {\n",
    "            'criterion': ['entropy'],\n",
    "            'max_depth': [4, 8, 12],\n",
    "            'min_samples_split': [4, 5, 6],\n",
    "            'max_features': [None, 'log2', 'auto', .50, .75, .99],\n",
    "            'random_state': [42]}\n",
    "        \n",
    "        M = GridSearchCV(DecisionTreeClassifier(),\n",
    "                        dt_none_params,\n",
    "                        cv = 5,\n",
    "                        verbose = 1,\n",
    "                        n_jobs = -1)\n",
    "\n",
    "    else:\n",
    "        print('There is an error.')\n",
    "        \n",
    "    M.fit(X_train, y_train)\n",
    "     \n",
    "    print(f'Train score = {M.score(X_train, y_train)}')\n",
    "    print(f'Test score = {M.score(X_test, y_test)}')\n",
    "    \n",
    "    predictions = M.predict(X_test)\n",
    "    print('--------')\n",
    "    print(confusion_matrix(y_test, predictions))\n",
    "    print(f'Best params = {M.best_params_}')"
   ]
  },
  {
   "cell_type": "code",
   "execution_count": 29,
   "metadata": {},
   "outputs": [
    {
     "name": "stderr",
     "output_type": "stream",
     "text": [
      "[Parallel(n_jobs=-1)]: Using backend LokyBackend with 4 concurrent workers.\n"
     ]
    },
    {
     "name": "stdout",
     "output_type": "stream",
     "text": [
      "Fitting 5 folds for each of 54 candidates, totalling 270 fits\n"
     ]
    },
    {
     "name": "stderr",
     "output_type": "stream",
     "text": [
      "[Parallel(n_jobs=-1)]: Done  68 tasks      | elapsed:    1.9s\n"
     ]
    },
    {
     "name": "stdout",
     "output_type": "stream",
     "text": [
      "Train score = 0.734416997312172\n",
      "Test score = 0.6861749776052553\n",
      "--------\n",
      "[[1445  293]\n",
      " [ 758  853]]\n",
      "Best params = {'criterion': 'gini', 'max_depth': 8, 'max_features': None, 'min_samples_split': 2, 'random_state': 42}\n"
     ]
    },
    {
     "name": "stderr",
     "output_type": "stream",
     "text": [
      "[Parallel(n_jobs=-1)]: Done 270 out of 270 | elapsed:   11.7s finished\n"
     ]
    }
   ],
   "source": [
    "run_the_dt_models('dt_1')"
   ]
  },
  {
   "cell_type": "code",
   "execution_count": 30,
   "metadata": {},
   "outputs": [
    {
     "name": "stderr",
     "output_type": "stream",
     "text": [
      "[Parallel(n_jobs=-1)]: Using backend LokyBackend with 4 concurrent workers.\n"
     ]
    },
    {
     "name": "stdout",
     "output_type": "stream",
     "text": [
      "Fitting 5 folds for each of 54 candidates, totalling 270 fits\n"
     ]
    },
    {
     "name": "stderr",
     "output_type": "stream",
     "text": [
      "[Parallel(n_jobs=-1)]: Done  76 tasks      | elapsed:    2.4s\n"
     ]
    },
    {
     "name": "stdout",
     "output_type": "stream",
     "text": [
      "Train score = 0.7337770382695508\n",
      "Test score = 0.6846819946252612\n",
      "--------\n",
      "[[1464  274]\n",
      " [ 782  829]]\n",
      "Best params = {'criterion': 'entropy', 'max_depth': 8, 'max_features': 0.99, 'min_samples_split': 5, 'random_state': 42}\n"
     ]
    },
    {
     "name": "stderr",
     "output_type": "stream",
     "text": [
      "[Parallel(n_jobs=-1)]: Done 270 out of 270 | elapsed:   14.2s finished\n"
     ]
    }
   ],
   "source": [
    "run_the_dt_models('dt_2')"
   ]
  },
  {
   "cell_type": "markdown",
   "metadata": {},
   "source": [
    "#### Explaining the 3 cells above for my Decision Tree models\n",
    "\n",
    "I defined a function to:\n",
    "\n",
    "- GridSearch hyperparameters for two Decision Tree Models\n",
    "- Fit the models\n",
    "- Print the train and test scores for the models\n",
    "- Make predictions and print them in a confusion matrix\n",
    "- Print out the best parameters\n",
    "\n",
    "In the first cell following the function, I call `run_the_dt_models('dt_1')` which runs the first decision tree model and in the next cell I call `run_the_dt_models('dt_2')` which runs the second model. The difference between the two models are the criterion, I wanted one model that focused on gini and the other on entropy."
   ]
  },
  {
   "cell_type": "markdown",
   "metadata": {},
   "source": [
    "### RANDOM FOREST MODELS"
   ]
  },
  {
   "cell_type": "code",
   "execution_count": 32,
   "metadata": {},
   "outputs": [],
   "source": [
    "def run_the_rf_models(model):\n",
    "    \n",
    "    if model == 'rf_1':\n",
    "        \n",
    "        rf_params = {\n",
    "            'n_estimators': [15, 24, 30],\n",
    "            'criterion': ['gini'],\n",
    "            'max_depth': [5, 13, 21],\n",
    "            'bootstrap': [True, False],\n",
    "            'min_samples_split': [20, 25, 30],\n",
    "            'max_features': [None, 'log2', 'auto', .50, .75, .99],\n",
    "            'warm_start': [True, False],\n",
    "            'random_state': [42]}\n",
    "        \n",
    "        M = GridSearchCV(RandomForestClassifier(),\n",
    "                        rf_params,\n",
    "                        cv = 5,\n",
    "                        verbose = 1,\n",
    "                        n_jobs = -1)\n",
    "        \n",
    "    elif model == 'rf_2':\n",
    "        \n",
    "        rf_none_params = {\n",
    "            'n_estimators': [25, 30, 35],\n",
    "            'criterion': ['entropy'],\n",
    "            'max_depth': [13, 21, 30],\n",
    "            'bootstrap': [True, False],\n",
    "            'min_samples_split': [25, 30, 35],\n",
    "            'max_features': [None, 'log2', 'auto', .50, .75, .99],\n",
    "            'warm_start': [True, False],\n",
    "            'random_state': [42]}\n",
    "        \n",
    "        M = GridSearchCV(RandomForestClassifier(),\n",
    "                        rf_none_params,\n",
    "                        cv = 5,\n",
    "                        verbose = 1,\n",
    "                        n_jobs = -1)\n",
    "        \n",
    "    else:\n",
    "        print('There is an error.')\n",
    "        \n",
    "    M.fit(X_train, y_train)\n",
    "     \n",
    "    print(f'Train score = {M.score(X_train, y_train)}')\n",
    "    print(f'Test score = {M.score(X_test, y_test)}')\n",
    "    \n",
    "    predictions = M.predict(X_test)\n",
    "    print('--------')\n",
    "    print(confusion_matrix(y_test, predictions))\n",
    "    print(f'Best params = {M.best_params_}')"
   ]
  },
  {
   "cell_type": "code",
   "execution_count": 33,
   "metadata": {},
   "outputs": [
    {
     "name": "stdout",
     "output_type": "stream",
     "text": [
      "Fitting 5 folds for each of 648 candidates, totalling 3240 fits\n"
     ]
    },
    {
     "name": "stderr",
     "output_type": "stream",
     "text": [
      "[Parallel(n_jobs=-1)]: Using backend LokyBackend with 4 concurrent workers.\n",
      "[Parallel(n_jobs=-1)]: Done  42 tasks      | elapsed:   24.4s\n",
      "[Parallel(n_jobs=-1)]: Done 192 tasks      | elapsed:   51.5s\n",
      "[Parallel(n_jobs=-1)]: Done 442 tasks      | elapsed:  1.7min\n",
      "[Parallel(n_jobs=-1)]: Done 792 tasks      | elapsed:  3.8min\n",
      "[Parallel(n_jobs=-1)]: Done 1242 tasks      | elapsed:  7.9min\n",
      "[Parallel(n_jobs=-1)]: Done 1792 tasks      | elapsed: 12.2min\n",
      "[Parallel(n_jobs=-1)]: Done 2442 tasks      | elapsed: 16.7min\n",
      "[Parallel(n_jobs=-1)]: Done 3192 tasks      | elapsed: 27.2min\n",
      "[Parallel(n_jobs=-1)]: Done 3240 out of 3240 | elapsed: 28.3min finished\n"
     ]
    },
    {
     "name": "stdout",
     "output_type": "stream",
     "text": [
      "Train score = 0.8104441315755792\n",
      "Test score = 0.7121528814571514\n",
      "--------\n",
      "[[1423  315]\n",
      " [ 649  962]]\n",
      "Best params = {'bootstrap': True, 'criterion': 'gini', 'max_depth': 13, 'max_features': 0.5, 'min_samples_split': 25, 'n_estimators': 24, 'random_state': 42, 'warm_start': True}\n"
     ]
    }
   ],
   "source": [
    "run_the_rf_models('rf_1')"
   ]
  },
  {
   "cell_type": "code",
   "execution_count": 34,
   "metadata": {},
   "outputs": [
    {
     "name": "stdout",
     "output_type": "stream",
     "text": [
      "Fitting 5 folds for each of 648 candidates, totalling 3240 fits\n"
     ]
    },
    {
     "name": "stderr",
     "output_type": "stream",
     "text": [
      "[Parallel(n_jobs=-1)]: Using backend LokyBackend with 4 concurrent workers.\n",
      "[Parallel(n_jobs=-1)]: Done  42 tasks      | elapsed:   53.7s\n",
      "[Parallel(n_jobs=-1)]: Done 192 tasks      | elapsed:  2.2min\n",
      "[Parallel(n_jobs=-1)]: Done 442 tasks      | elapsed:  4.7min\n",
      "[Parallel(n_jobs=-1)]: Done 792 tasks      | elapsed:  9.3min\n",
      "[Parallel(n_jobs=-1)]: Done 1242 tasks      | elapsed: 16.8min\n",
      "[Parallel(n_jobs=-1)]: Done 1792 tasks      | elapsed: 25.3min\n",
      "[Parallel(n_jobs=-1)]: Done 2442 tasks      | elapsed: 36.8min\n",
      "[Parallel(n_jobs=-1)]: Done 3192 tasks      | elapsed: 55.6min\n",
      "[Parallel(n_jobs=-1)]: Done 3240 out of 3240 | elapsed: 57.6min finished\n"
     ]
    },
    {
     "name": "stdout",
     "output_type": "stream",
     "text": [
      "Train score = 0.8764879047740944\n",
      "Test score = 0.711257091669155\n",
      "--------\n",
      "[[1393  345]\n",
      " [ 622  989]]\n",
      "Best params = {'bootstrap': False, 'criterion': 'entropy', 'max_depth': 21, 'max_features': 'log2', 'min_samples_split': 30, 'n_estimators': 30, 'random_state': 42, 'warm_start': True}\n"
     ]
    }
   ],
   "source": [
    "run_the_rf_models('rf_2')"
   ]
  },
  {
   "cell_type": "markdown",
   "metadata": {},
   "source": [
    "#### Explaining the 3 cells above for my Random Forest models\n",
    "\n",
    "I defined a function to:\n",
    "\n",
    "- GridSearch hyperparameters for two Random Forest Models\n",
    "- Fit the models\n",
    "- Print the train and test scores for the models\n",
    "- Make predictions and print them in a confusion matrix\n",
    "- Print out the best parameters\n",
    "\n",
    "In the first cell following the function, I call `run_the_rf_models('rf_1')` which runs the first random forest model and in the next cell I call `run_the_rf_models('rf_2')` which runs the second model. The difference between the two models are the criterion, I wanted one model that focused on gini and the other on entropy."
   ]
  },
  {
   "cell_type": "markdown",
   "metadata": {},
   "source": [
    "### KNN MODELS"
   ]
  },
  {
   "cell_type": "code",
   "execution_count": 35,
   "metadata": {},
   "outputs": [],
   "source": [
    "def run_the_knn_models(model):\n",
    "    \n",
    "    if model == 'knn_1':\n",
    "        \n",
    "        knn_1_params = {\n",
    "            'n_neighbors': [5, 50, 100],\n",
    "            'weights': ['uniform'],\n",
    "            'algorithm': ['auto', 'ball_tree', 'kd_tree', 'brute'],\n",
    "            'leaf_size': [20, 30, 40]}\n",
    "        \n",
    "        M = GridSearchCV(KNeighborsClassifier(),\n",
    "                        knn_1_params,\n",
    "                        cv = 5,\n",
    "                        verbose = 1,\n",
    "                        n_jobs = -1)\n",
    "\n",
    "    elif model == 'knn_2':\n",
    "        \n",
    "        knn_1_params = {\n",
    "            'n_neighbors': [5, 50, 100],\n",
    "            'weights': ['distance'],\n",
    "            'algorithm': ['auto', 'ball_tree', 'kd_tree', 'brute'],\n",
    "            'leaf_size': [20, 30, 40]}\n",
    "        \n",
    "        M = GridSearchCV(KNeighborsClassifier(),\n",
    "                        knn_1_params,\n",
    "                        cv = 5,\n",
    "                        verbose = 1,\n",
    "                        n_jobs = -1)\n",
    "        \n",
    "    else:\n",
    "        print('There is an error.')\n",
    "        \n",
    "    M.fit(X_train, y_train)\n",
    "     \n",
    "    print(f'Train score = {M.score(X_train, y_train)}')\n",
    "    print(f'Test score = {M.score(X_test, y_test)}')\n",
    "    \n",
    "    predictions = M.predict(X_test)\n",
    "    print('--------')\n",
    "    print(confusion_matrix(y_test, predictions))\n",
    "    print(f'Best params = {M.best_params_}')"
   ]
  },
  {
   "cell_type": "code",
   "execution_count": 36,
   "metadata": {},
   "outputs": [
    {
     "name": "stdout",
     "output_type": "stream",
     "text": [
      "Fitting 5 folds for each of 36 candidates, totalling 180 fits\n"
     ]
    },
    {
     "name": "stderr",
     "output_type": "stream",
     "text": [
      "[Parallel(n_jobs=-1)]: Using backend LokyBackend with 4 concurrent workers.\n",
      "[Parallel(n_jobs=-1)]: Done  42 tasks      | elapsed:  3.4min\n",
      "[Parallel(n_jobs=-1)]: Done 180 out of 180 | elapsed: 10.9min finished\n"
     ]
    },
    {
     "name": "stdout",
     "output_type": "stream",
     "text": [
      "Train score = 0.7159861768846794\n",
      "Test score = 0.7064795461331741\n",
      "--------\n",
      "[[1501  237]\n",
      " [ 746  865]]\n",
      "Best params = {'algorithm': 'auto', 'leaf_size': 20, 'n_neighbors': 50, 'weights': 'uniform'}\n"
     ]
    }
   ],
   "source": [
    "run_the_knn_models('knn_1')"
   ]
  },
  {
   "cell_type": "code",
   "execution_count": 37,
   "metadata": {},
   "outputs": [
    {
     "name": "stdout",
     "output_type": "stream",
     "text": [
      "Fitting 5 folds for each of 36 candidates, totalling 180 fits\n"
     ]
    },
    {
     "name": "stderr",
     "output_type": "stream",
     "text": [
      "[Parallel(n_jobs=-1)]: Using backend LokyBackend with 4 concurrent workers.\n",
      "[Parallel(n_jobs=-1)]: Done  42 tasks      | elapsed:  3.0min\n",
      "[Parallel(n_jobs=-1)]: Done 180 out of 180 | elapsed: 10.4min finished\n"
     ]
    },
    {
     "name": "stdout",
     "output_type": "stream",
     "text": [
      "Train score = 1.0\n",
      "Test score = 0.7049865631531801\n",
      "--------\n",
      "[[1475  263]\n",
      " [ 725  886]]\n",
      "Best params = {'algorithm': 'auto', 'leaf_size': 20, 'n_neighbors': 50, 'weights': 'distance'}\n"
     ]
    }
   ],
   "source": [
    "run_the_knn_models('knn_2')"
   ]
  },
  {
   "cell_type": "markdown",
   "metadata": {},
   "source": [
    "#### Explaining the 3 cells above for my KNN models\n",
    "\n",
    "I defined a function to:\n",
    "\n",
    "- GridSearch hyperparameters for two KNN Models\n",
    "- Fit the models\n",
    "- Print the train and test scores for the models\n",
    "- Make predictions and print them in a confusion matrix\n",
    "- Print out the best parameters\n",
    "\n",
    "In the first cell following the function, I call `run_the_knn_models('knn_1')` which runs the first KNN model and in the next cell I call `run_the_knn_models('knn_2')` which runs the second model. The difference between the two models are the weights, I wanted one model that focused on uniform and the other on distance."
   ]
  },
  {
   "cell_type": "markdown",
   "metadata": {},
   "source": [
    "# NEURAL NETS"
   ]
  },
  {
   "cell_type": "code",
   "execution_count": 38,
   "metadata": {},
   "outputs": [
    {
     "data": {
      "text/plain": [
       "60"
      ]
     },
     "execution_count": 38,
     "metadata": {},
     "output_type": "execute_result"
    }
   ],
   "source": [
    "X_train.shape[1]\n",
    "\n",
    "#checking out the shape of my X_train so I can know how many inputs are needed for my neural net below"
   ]
  },
  {
   "cell_type": "markdown",
   "metadata": {},
   "source": [
    "### Sequential NN 1"
   ]
  },
  {
   "cell_type": "code",
   "execution_count": 39,
   "metadata": {},
   "outputs": [],
   "source": [
    "seq1 = Sequential()\n",
    "#instantiating my model\n",
    "\n",
    "seq1.add(Dense(60, activation = 'relu', input_dim = 60))\n",
    "seq1.add(Dropout(0.5))\n",
    "seq1.add(Dense(48, activation = 'relu', kernel_regularizer = regularizers.l2(0.01)))\n",
    "seq1.add(Dropout(0.6))\n",
    "seq1.add(Dense(3, activation = 'relu'))\n",
    "seq1.add(Dense(1, activation = 'sigmoid'))\n",
    "#neural net layers (input, hidden, and output)\n",
    "\n",
    "seq1.compile(loss = 'binary_crossentropy', optimizer = 'adam', metrics = ['accuracy'])\n",
    "#compiling the layers\n",
    "\n",
    "e1 = EarlyStopping(monitor = 'val_loss', min_delta = 0, patience = 2)\n",
    "#early stopping\n",
    "\n",
    "seq1_loss = seq1.fit(X_train, y_train, validation_data = (X_test, y_test), \n",
    "                     epochs = 1000, batch_size = 4000, verbose = 0, callbacks = [e1])\n",
    "#fitting the model"
   ]
  },
  {
   "cell_type": "code",
   "execution_count": 40,
   "metadata": {},
   "outputs": [
    {
     "data": {
      "image/png": "[encoded data removed]",
      "text/plain": [
       "<Figure size 792x504 with 1 Axes>"
      ]
     },
     "metadata": {
      "image/png": {
       "height": 413,
       "width": 652
      },
      "needs_background": "light"
     },
     "output_type": "display_data"
    }
   ],
   "source": [
    "plt.figure(figsize = (11, 7))\n",
    "plt.plot(seq1_loss.history['loss'], label = 'Train loss')\n",
    "plt.plot(seq1_loss.history['val_loss'], label = 'Test loss')\n",
    "plt.legend()\n",
    "plt.show();\n",
    "\n",
    "#plotting my train and test loss against each other"
   ]
  },
  {
   "cell_type": "code",
   "execution_count": 41,
   "metadata": {},
   "outputs": [
    {
     "name": "stdout",
     "output_type": "stream",
     "text": [
      "loss: 0.5358024044278243\n",
      "acc: 0.7488800716830417\n"
     ]
    }
   ],
   "source": [
    "train_score_seq1 = seq1.evaluate(X_train, y_train, verbose = 0)\n",
    "train_labels_seq1 = seq1.metrics_names\n",
    "\n",
    "print(f'{train_labels_seq1[0]}: {train_score_seq1[0]}')\n",
    "print(f'{train_labels_seq1[1]}: {train_score_seq1[1]}')\n",
    "\n",
    "#printing out my train loss and accuracy score"
   ]
  },
  {
   "cell_type": "code",
   "execution_count": 42,
   "metadata": {},
   "outputs": [
    {
     "name": "stdout",
     "output_type": "stream",
     "text": [
      "loss: 0.5631605843246144\n",
      "acc: 0.7232009556158937\n"
     ]
    }
   ],
   "source": [
    "test_score_seq1 = seq1.evaluate(X_test, y_test, verbose = 0)\n",
    "test_labels_seq1 = seq1.metrics_names\n",
    "\n",
    "print(f'{test_labels_seq1[0]}: {test_score_seq1[0]}')\n",
    "print(f'{test_labels_seq1[1]}: {test_score_seq1[1]}')\n",
    "\n",
    "#printing out my test loss and accuracy score"
   ]
  },
  {
   "cell_type": "markdown",
   "metadata": {},
   "source": [
    "### Sequential NN 2"
   ]
  },
  {
   "cell_type": "code",
   "execution_count": 43,
   "metadata": {},
   "outputs": [],
   "source": [
    "seq2 = Sequential()\n",
    "#instantiating my model\n",
    "\n",
    "seq2.add(Dense(60, activation = 'relu', input_dim = 60))\n",
    "seq2.add(Dropout(0.5))\n",
    "seq2.add(Dense(48, activation = 'relu', kernel_regularizer = regularizers.l2(0.01)))\n",
    "seq2.add(Dropout(0.6))\n",
    "seq2.add(Dense(12, activation = 'relu', kernel_regularizer = regularizers.l2(0.01)))\n",
    "seq2.add(Dropout(0.5))\n",
    "seq2.add(Dense(3, activation = 'relu'))\n",
    "seq2.add(Dense(1, activation = 'sigmoid'))\n",
    "#neural net layers (input, hidden, and output)\n",
    "\n",
    "seq2.compile(loss = 'binary_crossentropy', optimizer = 'adam', metrics = ['accuracy'])\n",
    "#compiling the layers\n",
    "\n",
    "e2 = EarlyStopping(monitor = 'val_loss', min_delta = 0, patience = 1)\n",
    "#early stopping\n",
    "\n",
    "seq2_loss = seq2.fit(X_train, y_train, validation_data = (X_test, y_test), \n",
    "                     epochs = 1000, batch_size = 4000, verbose = 0, callbacks = [e2])\n",
    "#fitting the model"
   ]
  },
  {
   "cell_type": "code",
   "execution_count": 44,
   "metadata": {},
   "outputs": [
    {
     "data": {
      "image/png": "[encoded data removed]",
      "text/plain": [
       "<Figure size 792x504 with 1 Axes>"
      ]
     },
     "metadata": {
      "image/png": {
       "height": 413,
       "width": 652
      },
      "needs_background": "light"
     },
     "output_type": "display_data"
    }
   ],
   "source": [
    "plt.figure(figsize = (11, 7))\n",
    "plt.plot(seq2_loss.history['loss'], label = 'Train loss')\n",
    "plt.plot(seq2_loss.history['val_loss'], label = 'Test loss')\n",
    "plt.legend()\n",
    "plt.show();\n",
    "\n",
    "#plotting my train and test loss against each other"
   ]
  },
  {
   "cell_type": "code",
   "execution_count": 45,
   "metadata": {},
   "outputs": [
    {
     "name": "stdout",
     "output_type": "stream",
     "text": [
      "loss: 0.6064596287224336\n",
      "acc: 0.7282733905106367\n"
     ]
    }
   ],
   "source": [
    "train_score_seq2 = seq2.evaluate(X_train, y_train, verbose = 0)\n",
    "train_labels_seq2 = seq2.metrics_names\n",
    "\n",
    "print(f'{train_labels_seq2[0]}: {train_score_seq2[0]}')\n",
    "print(f'{train_labels_seq2[1]}: {train_score_seq2[1]}')\n",
    "\n",
    "#printing out my train loss and accuracy score"
   ]
  },
  {
   "cell_type": "code",
   "execution_count": 46,
   "metadata": {},
   "outputs": [
    {
     "name": "stdout",
     "output_type": "stream",
     "text": [
      "loss: 0.6152381151425158\n",
      "acc: 0.7187220066581138\n"
     ]
    }
   ],
   "source": [
    "test_score_seq2 = seq2.evaluate(X_test, y_test, verbose = 0)\n",
    "test_labels_seq2 = seq2.metrics_names\n",
    "\n",
    "print(f'{test_labels_seq2[0]}: {test_score_seq2[0]}')\n",
    "print(f'{test_labels_seq2[1]}: {test_score_seq2[1]}')\n",
    "\n",
    "#printing out my test loss and accuracy score"
   ]
  },
  {
   "cell_type": "code",
   "execution_count": null,
   "metadata": {},
   "outputs": [],
   "source": []
  }
 ],
 "metadata": {
  "kernelspec": {
   "display_name": "Python 3",
   "language": "python",
   "name": "python3"
  },
  "language_info": {
   "codemirror_mode": {
    "name": "ipython",
    "version": 3
   },
   "file_extension": ".py",
   "mimetype": "text/x-python",
   "name": "python",
   "nbconvert_exporter": "python",
   "pygments_lexer": "ipython3",
   "version": "3.6.0"
  }
 },
 "nbformat": 4,
 "nbformat_minor": 2
}
